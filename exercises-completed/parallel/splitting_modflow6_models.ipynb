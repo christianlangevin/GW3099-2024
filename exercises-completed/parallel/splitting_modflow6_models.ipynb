{
 "cells": [
  {
   "cell_type": "markdown",
   "id": "1779f695",
   "metadata": {},
   "source": [
    "# Model splitting for parallel and serial MODFLOW 6\n",
    "\n",
    "The model splitting functionality for MODFLOW 6 is shown in this notebook. Model splitting via the `Mf6Splitter()` class can be performed on groundwater flow models as well as combined groundwater flow and transport models. The `Mf6Splitter()` class maps a model's connectivity and then builds new models, with exchanges and movers between the new models, based on a user defined array of model numbers.\n",
    "\n",
    "The `Mf6Splitter()` class supports Structured, Vertex, and Unstructured Grid models."
   ]
  },
  {
   "cell_type": "code",
   "execution_count": 1,
   "id": "608015ad",
   "metadata": {
    "execution": {
     "iopub.execute_input": "2024-09-19T21:21:16.867409Z",
     "iopub.status.busy": "2024-09-19T21:21:16.867409Z",
     "iopub.status.idle": "2024-09-19T21:21:18.994482Z",
     "shell.execute_reply": "2024-09-19T21:21:18.994482Z",
     "shell.execute_reply.started": "2024-09-19T21:21:16.867409Z"
    }
   },
   "outputs": [],
   "source": [
    "import os\n",
    "from pathlib import Path\n",
    "\n",
    "import flopy\n",
    "import matplotlib.pyplot as plt\n",
    "import numpy as np\n",
    "from flopy.mf6.utils import Mf6Splitter\n",
    "from flopy.plot import styles"
   ]
  },
  {
   "cell_type": "markdown",
   "id": "fc051318",
   "metadata": {},
   "source": [
    "## Example 1: splitting a simple structured grid model\n",
    "\n",
    "This example shows the basics of using the `Mf6Splitter()` class and applies the method to the Freyberg (1988) model."
   ]
  },
  {
   "cell_type": "code",
   "execution_count": 2,
   "id": "13f6b665",
   "metadata": {
    "execution": {
     "iopub.execute_input": "2024-09-19T21:21:35.201716Z",
     "iopub.status.busy": "2024-09-19T21:21:35.201716Z",
     "iopub.status.idle": "2024-09-19T21:21:35.204635Z",
     "shell.execute_reply": "2024-09-19T21:21:35.204635Z",
     "shell.execute_reply.started": "2024-09-19T21:21:35.201716Z"
    }
   },
   "outputs": [],
   "source": [
    "data_ws = Path(\"../../data/\")\n",
    "simulation_ws = data_ws / \"mf6-freyberg\""
   ]
  },
  {
   "cell_type": "markdown",
   "id": "0543c6e4",
   "metadata": {},
   "source": [
    "Load the simulation"
   ]
  },
  {
   "cell_type": "code",
   "execution_count": 3,
   "id": "aed9ba06",
   "metadata": {
    "execution": {
     "iopub.execute_input": "2024-09-19T21:21:42.636657Z",
     "iopub.status.busy": "2024-09-19T21:21:42.636657Z",
     "iopub.status.idle": "2024-09-19T21:21:42.833549Z",
     "shell.execute_reply": "2024-09-19T21:21:42.833549Z",
     "shell.execute_reply.started": "2024-09-19T21:21:42.636657Z"
    }
   },
   "outputs": [
    {
     "name": "stdout",
     "output_type": "stream",
     "text": [
      "loading simulation...\n",
      "  loading simulation name file...\n",
      "  loading tdis package...\n",
      "  loading model gwf6...\n",
      "    loading package dis...\n",
      "    loading package ic...\n",
      "    loading package oc...\n",
      "    loading package npf...\n",
      "    loading package sto...\n",
      "    loading package chd...\n",
      "    loading package riv...\n",
      "    loading package wel...\n",
      "    loading package rch...\n",
      "  loading solution package freyberg...\n"
     ]
    }
   ],
   "source": [
    "sim = flopy.mf6.MFSimulation.load(sim_ws=simulation_ws)"
   ]
  },
  {
   "cell_type": "markdown",
   "id": "e85ae2b9",
   "metadata": {},
   "source": [
    "Change the working directory, write input files, and run the simulation"
   ]
  },
  {
   "cell_type": "code",
   "execution_count": 4,
   "id": "72bf5ea2",
   "metadata": {
    "execution": {
     "iopub.execute_input": "2024-09-19T21:22:12.978937Z",
     "iopub.status.busy": "2024-09-19T21:22:12.978937Z",
     "iopub.status.idle": "2024-09-19T21:22:13.828627Z",
     "shell.execute_reply": "2024-09-19T21:22:13.827613Z",
     "shell.execute_reply.started": "2024-09-19T21:22:12.978937Z"
    }
   },
   "outputs": [
    {
     "name": "stdout",
     "output_type": "stream",
     "text": [
      "writing simulation...\n",
      "  writing simulation name file...\n",
      "  writing simulation tdis package...\n",
      "  writing solution package freyberg...\n",
      "  writing model freyberg...\n",
      "    writing model name file...\n",
      "    writing package dis...\n",
      "    writing package ic...\n",
      "    writing package oc...\n",
      "    writing package npf...\n",
      "    writing package sto...\n",
      "    writing package chd-1...\n",
      "    writing package riv-1...\n",
      "    writing package wel-1...\n",
      "    writing package rch-1...\n",
      "FloPy is using the following executable to run the model: ..\\..\\..\\..\\..\\Documents\\anaconda3\\envs\\gw3099\\Scripts\\mf6.exe\n",
      "                                   MODFLOW 6\n",
      "                U.S. GEOLOGICAL SURVEY MODULAR HYDROLOGIC MODEL\n",
      "                            VERSION 6.5.0 05/23/2024\n",
      "\n",
      "   MODFLOW 6 compiled Jun 21 2024 02:57:23 with Intel(R) Fortran Intel(R) 64\n",
      "   Compiler Classic for applications running on Intel(R) 64, Version 2021.7.0\n",
      "                             Build 20220726_000000\n",
      "\n",
      "This software has been approved for release by the U.S. Geological \n",
      "Survey (USGS). Although the software has been subjected to rigorous \n",
      "review, the USGS reserves the right to update the software as needed \n",
      "pursuant to further analysis and review. No warranty, expressed or \n",
      "implied, is made by the USGS or the U.S. Government as to the \n",
      "functionality of the software and related material nor shall the \n",
      "fact of release constitute any such warranty. Furthermore, the \n",
      "software is released on condition that neither the USGS nor the U.S. \n",
      "Government shall be held liable for any damages resulting from its \n",
      "authorized or unauthorized use. Also refer to the USGS Water \n",
      "Resources Software User Rights Notice for complete use, copyright, \n",
      "and distribution information.\n",
      "\n",
      " \n",
      " MODFLOW runs in SEQUENTIAL mode\n",
      " \n",
      " Run start date and time (yyyy/mm/dd hh:mm:ss): 2024/09/19 14:22:13\n",
      " \n",
      " Writing simulation list file: mfsim.lst\n",
      " Using Simulation name file: mfsim.nam\n",
      " \n",
      "    Solving:  Stress period:     1    Time step:     1\n",
      " \n",
      " Run end date and time (yyyy/mm/dd hh:mm:ss): 2024/09/19 14:22:13\n",
      " Elapsed run time:  0.233 Seconds\n",
      " \n",
      " Normal termination of simulation.\n"
     ]
    },
    {
     "data": {
      "text/plain": [
       "(True, [])"
      ]
     },
     "execution_count": 4,
     "metadata": {},
     "output_type": "execute_result"
    }
   ],
   "source": [
    "# live coding, write input, run simulation\n",
    "working_path = Path(\"temp\")\n",
    "sim.set_sim_path(working_path)\n",
    "sim.write_simulation()\n",
    "sim.run_simulation()"
   ]
  },
  {
   "cell_type": "markdown",
   "id": "375a7074",
   "metadata": {},
   "source": [
    "Visualize the head results and boundary conditions from this model."
   ]
  },
  {
   "cell_type": "code",
   "execution_count": 6,
   "id": "26b10a8a",
   "metadata": {
    "execution": {
     "iopub.execute_input": "2024-09-19T21:22:40.503256Z",
     "iopub.status.busy": "2024-09-19T21:22:40.502246Z",
     "iopub.status.idle": "2024-09-19T21:22:40.506409Z",
     "shell.execute_reply": "2024-09-19T21:22:40.506409Z",
     "shell.execute_reply.started": "2024-09-19T21:22:40.503256Z"
    }
   },
   "outputs": [],
   "source": [
    "# get the model\n",
    "gwf = sim.get_model()"
   ]
  },
  {
   "cell_type": "code",
   "execution_count": 7,
   "id": "9d530498",
   "metadata": {
    "execution": {
     "iopub.execute_input": "2024-09-19T21:22:44.007568Z",
     "iopub.status.busy": "2024-09-19T21:22:44.006572Z",
     "iopub.status.idle": "2024-09-19T21:22:44.298245Z",
     "shell.execute_reply": "2024-09-19T21:22:44.298245Z",
     "shell.execute_reply.started": "2024-09-19T21:22:44.007568Z"
    }
   },
   "outputs": [
    {
     "data": {
      "image/png": "[encoded data removed]",
      "text/plain": [
       "<Figure size 500x700 with 2 Axes>"
      ]
     },
     "metadata": {},
     "output_type": "display_data"
    }
   ],
   "source": [
    "fig, ax = plt.subplots(figsize=(5, 7))\n",
    "pmv = flopy.plot.PlotMapView(gwf, ax=ax)\n",
    "heads = gwf.output.head().get_alldata()[-1]\n",
    "heads = np.where(heads == 1e30, np.nan, heads)\n",
    "vmin = np.nanmin(heads)\n",
    "vmax = np.nanmax(heads)\n",
    "pc = pmv.plot_array(heads, vmin=vmin, vmax=vmax)\n",
    "pmv.plot_bc(\"WEL\")\n",
    "pmv.plot_bc(\"RIV\", color=\"c\")\n",
    "pmv.plot_bc(\"CHD\")\n",
    "pmv.plot_grid()\n",
    "pmv.plot_ibound()\n",
    "plt.colorbar(pc);"
   ]
  },
  {
   "cell_type": "markdown",
   "id": "3dde1911",
   "metadata": {},
   "source": [
    "### Creating an array that defines the new models\n",
    "\n",
    "In order to split models, the model domain must be discretized using unique model numbers. Any number of models can be created, however all of the cells within each model must be contiguous.\n",
    "\n",
    "The `Mf6Splitter()` class accept arrays that are equal in size to the number of cells per layer (`StructuredGrid` and `VertexGrid`) or the number of model nodes (`UnstructuredGrid`).\n",
    "\n",
    "In this example, the model is split diagonally into two model domains."
   ]
  },
  {
   "cell_type": "code",
   "execution_count": 8,
   "id": "2f947598",
   "metadata": {
    "execution": {
     "iopub.execute_input": "2024-09-19T21:24:31.346630Z",
     "iopub.status.busy": "2024-09-19T21:24:31.346630Z",
     "iopub.status.idle": "2024-09-19T21:24:31.350149Z",
     "shell.execute_reply": "2024-09-19T21:24:31.350149Z",
     "shell.execute_reply.started": "2024-09-19T21:24:31.346630Z"
    }
   },
   "outputs": [],
   "source": [
    "modelgrid = gwf.modelgrid"
   ]
  },
  {
   "cell_type": "code",
   "execution_count": 23,
   "id": "2744935b",
   "metadata": {
    "execution": {
     "iopub.execute_input": "2024-09-19T21:36:04.599487Z",
     "iopub.status.busy": "2024-09-19T21:36:04.599487Z",
     "iopub.status.idle": "2024-09-19T21:36:04.606052Z",
     "shell.execute_reply": "2024-09-19T21:36:04.605020Z",
     "shell.execute_reply.started": "2024-09-19T21:36:04.599487Z"
    }
   },
   "outputs": [],
   "source": [
    "array = np.ones((modelgrid.nrow, modelgrid.ncol), dtype=int)\n",
    "ncol = 1\n",
    "for row in range(modelgrid.nrow):\n",
    "    if row != 0 and row % 2 == 0:\n",
    "        ncol += 1\n",
    "    array[row, ncol:] = 2"
   ]
  },
  {
   "cell_type": "markdown",
   "id": "abef251f",
   "metadata": {},
   "source": [
    "Plot the two domains that the model will be split into"
   ]
  },
  {
   "cell_type": "code",
   "execution_count": 25,
   "id": "0566cda9",
   "metadata": {
    "execution": {
     "iopub.execute_input": "2024-09-19T21:36:16.595879Z",
     "iopub.status.busy": "2024-09-19T21:36:16.595879Z",
     "iopub.status.idle": "2024-09-19T21:36:16.705822Z",
     "shell.execute_reply": "2024-09-19T21:36:16.705822Z",
     "shell.execute_reply.started": "2024-09-19T21:36:16.595879Z"
    }
   },
   "outputs": [
    {
     "data": {
      "image/png": "[encoded data removed]",
      "text/plain": [
       "<Figure size 300x400 with 2 Axes>"
      ]
     },
     "metadata": {},
     "output_type": "display_data"
    }
   ],
   "source": [
    "fig, ax = plt.subplots(figsize=(3, 4))\n",
    "pmv = flopy.plot.PlotMapView(gwf, ax=ax)\n",
    "pc = pmv.plot_array(array)\n",
    "lc = pmv.plot_grid()\n",
    "plt.colorbar(pc)\n",
    "plt.show()"
   ]
  },
  {
   "cell_type": "markdown",
   "id": "805564e6",
   "metadata": {},
   "source": [
    "### Splitting the model using `Mf6Splitter()`\n",
    "\n",
    "The `Mf6Splitter()` class accepts one required parameter and one optional parameter. These parameters are:\n",
    "   - `sim`: A flopy.mf6.MFSimulation object\n",
    "   - `modelname`: optional, the name of the model being split. If omitted Mf6Splitter grabs the first groundwater flow model listed in the simulation"
   ]
  },
  {
   "cell_type": "code",
   "execution_count": 26,
   "id": "c9b0ef6a",
   "metadata": {
    "execution": {
     "iopub.execute_input": "2024-09-19T21:37:37.381665Z",
     "iopub.status.busy": "2024-09-19T21:37:37.381665Z",
     "iopub.status.idle": "2024-09-19T21:37:37.448656Z",
     "shell.execute_reply": "2024-09-19T21:37:37.448278Z",
     "shell.execute_reply.started": "2024-09-19T21:37:37.381665Z"
    }
   },
   "outputs": [],
   "source": [
    "# live coding\n",
    "mfsplit = Mf6Splitter(sim)\n",
    "new_sim = mfsplit.split_model(array)"
   ]
  },
  {
   "cell_type": "markdown",
   "id": "7d389653",
   "metadata": {},
   "source": [
    "The model splitting is then performed by calling the `split_model()` function. `split_model()` accepts an array that is either the same size as the number of cells per layer (`StructuredGrid` and `VertexGrid`) model or the number of nodes in the model (`UnstructuredGrid`).\n",
    "\n",
    "This function returns a new `MFSimulation` object that contains the split models and exchanges between them"
   ]
  },
  {
   "cell_type": "code",
   "execution_count": 27,
   "id": "ab87fd55",
   "metadata": {
    "execution": {
     "iopub.execute_input": "2024-09-19T21:37:38.135165Z",
     "iopub.status.busy": "2024-09-19T21:37:38.134168Z",
     "iopub.status.idle": "2024-09-19T21:37:38.140343Z",
     "shell.execute_reply": "2024-09-19T21:37:38.139776Z",
     "shell.execute_reply.started": "2024-09-19T21:37:38.135165Z"
    }
   },
   "outputs": [
    {
     "data": {
      "text/plain": [
       "{'freyberg_1': name = freyberg_1\n",
       " model_type = gwf6\n",
       " version = mf6\n",
       " model_relative_path = .\n",
       " \n",
       " ###################\n",
       " Package dis\n",
       " ###################\n",
       " \n",
       " package_name = dis\n",
       " filename = freyberg_1.dis\n",
       " package_type = dis\n",
       " model_or_simulation_package = model\n",
       " model_name = freyberg_1\n",
       " \n",
       " \n",
       " ###################\n",
       " Package ic\n",
       " ###################\n",
       " \n",
       " package_name = ic\n",
       " filename = freyberg_1.ic\n",
       " package_type = ic\n",
       " model_or_simulation_package = model\n",
       " model_name = freyberg_1\n",
       " \n",
       " \n",
       " ###################\n",
       " Package oc\n",
       " ###################\n",
       " \n",
       " package_name = oc\n",
       " filename = freyberg_1.oc\n",
       " package_type = oc\n",
       " model_or_simulation_package = model\n",
       " model_name = freyberg_1\n",
       " \n",
       " \n",
       " ###################\n",
       " Package npf\n",
       " ###################\n",
       " \n",
       " package_name = npf\n",
       " filename = freyberg_1.npf\n",
       " package_type = npf\n",
       " model_or_simulation_package = model\n",
       " model_name = freyberg_1\n",
       " \n",
       " \n",
       " ###################\n",
       " Package sto\n",
       " ###################\n",
       " \n",
       " package_name = sto\n",
       " filename = freyberg_1.sto\n",
       " package_type = sto\n",
       " model_or_simulation_package = model\n",
       " model_name = freyberg_1\n",
       " \n",
       " \n",
       " ###################\n",
       " Package chd-1\n",
       " ###################\n",
       " \n",
       " package_name = chd-1\n",
       " filename = freyberg_1.chd\n",
       " package_type = chd\n",
       " model_or_simulation_package = model\n",
       " model_name = freyberg_1\n",
       " \n",
       " \n",
       " ###################\n",
       " Package riv-1\n",
       " ###################\n",
       " \n",
       " package_name = riv-1\n",
       " filename = freyberg_1.riv\n",
       " package_type = riv\n",
       " model_or_simulation_package = model\n",
       " model_name = freyberg_1\n",
       " \n",
       " \n",
       " ###################\n",
       " Package wel-1\n",
       " ###################\n",
       " \n",
       " package_name = wel-1\n",
       " filename = freyberg_1.wel\n",
       " package_type = wel\n",
       " model_or_simulation_package = model\n",
       " model_name = freyberg_1\n",
       " \n",
       " \n",
       " ###################\n",
       " Package rch-1\n",
       " ###################\n",
       " \n",
       " package_name = rch-1\n",
       " filename = freyberg_1.rcha\n",
       " package_type = rcha\n",
       " model_or_simulation_package = model\n",
       " model_name = freyberg_1\n",
       " \n",
       " ,\n",
       " 'freyberg_2': name = freyberg_2\n",
       " model_type = gwf6\n",
       " version = mf6\n",
       " model_relative_path = .\n",
       " \n",
       " ###################\n",
       " Package dis\n",
       " ###################\n",
       " \n",
       " package_name = dis\n",
       " filename = freyberg_2.dis\n",
       " package_type = dis\n",
       " model_or_simulation_package = model\n",
       " model_name = freyberg_2\n",
       " \n",
       " \n",
       " ###################\n",
       " Package ic\n",
       " ###################\n",
       " \n",
       " package_name = ic\n",
       " filename = freyberg_2.ic\n",
       " package_type = ic\n",
       " model_or_simulation_package = model\n",
       " model_name = freyberg_2\n",
       " \n",
       " \n",
       " ###################\n",
       " Package oc\n",
       " ###################\n",
       " \n",
       " package_name = oc\n",
       " filename = freyberg_2.oc\n",
       " package_type = oc\n",
       " model_or_simulation_package = model\n",
       " model_name = freyberg_2\n",
       " \n",
       " \n",
       " ###################\n",
       " Package npf\n",
       " ###################\n",
       " \n",
       " package_name = npf\n",
       " filename = freyberg_2.npf\n",
       " package_type = npf\n",
       " model_or_simulation_package = model\n",
       " model_name = freyberg_2\n",
       " \n",
       " \n",
       " ###################\n",
       " Package sto\n",
       " ###################\n",
       " \n",
       " package_name = sto\n",
       " filename = freyberg_2.sto\n",
       " package_type = sto\n",
       " model_or_simulation_package = model\n",
       " model_name = freyberg_2\n",
       " \n",
       " \n",
       " ###################\n",
       " Package riv-1\n",
       " ###################\n",
       " \n",
       " package_name = riv-1\n",
       " filename = freyberg_2.riv\n",
       " package_type = riv\n",
       " model_or_simulation_package = model\n",
       " model_name = freyberg_2\n",
       " \n",
       " \n",
       " ###################\n",
       " Package wel-1\n",
       " ###################\n",
       " \n",
       " package_name = wel-1\n",
       " filename = freyberg_2.wel\n",
       " package_type = wel\n",
       " model_or_simulation_package = model\n",
       " model_name = freyberg_2\n",
       " \n",
       " \n",
       " ###################\n",
       " Package rch-1\n",
       " ###################\n",
       " \n",
       " package_name = rch-1\n",
       " filename = freyberg_2.rcha\n",
       " package_type = rcha\n",
       " model_or_simulation_package = model\n",
       " model_name = freyberg_2\n",
       " \n",
       " }"
      ]
     },
     "execution_count": 27,
     "metadata": {},
     "output_type": "execute_result"
    }
   ],
   "source": [
    "# live coding create and split simulation\n",
    "new_sim.model_dict"
   ]
  },
  {
   "cell_type": "code",
   "execution_count": 28,
   "id": "e3a04a82",
   "metadata": {
    "execution": {
     "iopub.execute_input": "2024-09-19T21:37:39.277555Z",
     "iopub.status.busy": "2024-09-19T21:37:39.277555Z",
     "iopub.status.idle": "2024-09-19T21:37:39.732830Z",
     "shell.execute_reply": "2024-09-19T21:37:39.732594Z",
     "shell.execute_reply.started": "2024-09-19T21:37:39.277555Z"
    }
   },
   "outputs": [
    {
     "name": "stdout",
     "output_type": "stream",
     "text": [
      "writing simulation...\n",
      "  writing simulation name file...\n",
      "  writing simulation tdis package...\n",
      "  writing solution package ims_-1...\n",
      "  writing package sim_1_2.gwfgwf...\n",
      "  writing model freyberg_1...\n",
      "    writing model name file...\n",
      "    writing package dis...\n",
      "    writing package ic...\n",
      "    writing package oc...\n",
      "    writing package npf...\n",
      "    writing package sto...\n",
      "    writing package chd-1...\n",
      "    writing package riv-1...\n",
      "    writing package wel-1...\n",
      "    writing package rch-1...\n",
      "  writing model freyberg_2...\n",
      "    writing model name file...\n",
      "    writing package dis...\n",
      "    writing package ic...\n",
      "    writing package oc...\n",
      "    writing package npf...\n",
      "    writing package sto...\n",
      "    writing package riv-1...\n",
      "    writing package wel-1...\n",
      "    writing package rch-1...\n",
      "FloPy is using the following executable to run the model: ..\\..\\..\\..\\..\\..\\Documents\\anaconda3\\envs\\gw3099\\Scripts\\mf6.exe\n",
      "                                   MODFLOW 6\n",
      "                U.S. GEOLOGICAL SURVEY MODULAR HYDROLOGIC MODEL\n",
      "                            VERSION 6.5.0 05/23/2024\n",
      "\n",
      "   MODFLOW 6 compiled Jun 21 2024 02:57:23 with Intel(R) Fortran Intel(R) 64\n",
      "   Compiler Classic for applications running on Intel(R) 64, Version 2021.7.0\n",
      "                             Build 20220726_000000\n",
      "\n",
      "This software has been approved for release by the U.S. Geological \n",
      "Survey (USGS). Although the software has been subjected to rigorous \n",
      "review, the USGS reserves the right to update the software as needed \n",
      "pursuant to further analysis and review. No warranty, expressed or \n",
      "implied, is made by the USGS or the U.S. Government as to the \n",
      "functionality of the software and related material nor shall the \n",
      "fact of release constitute any such warranty. Furthermore, the \n",
      "software is released on condition that neither the USGS nor the U.S. \n",
      "Government shall be held liable for any damages resulting from its \n",
      "authorized or unauthorized use. Also refer to the USGS Water \n",
      "Resources Software User Rights Notice for complete use, copyright, \n",
      "and distribution information.\n",
      "\n",
      " \n",
      " MODFLOW runs in SEQUENTIAL mode\n",
      " \n",
      " Run start date and time (yyyy/mm/dd hh:mm:ss): 2024/09/19 14:37:39\n",
      " \n",
      " Writing simulation list file: mfsim.lst\n",
      " Using Simulation name file: mfsim.nam\n",
      " \n",
      "    Solving:  Stress period:     1    Time step:     1\n",
      " \n",
      " Run end date and time (yyyy/mm/dd hh:mm:ss): 2024/09/19 14:37:39\n",
      " Elapsed run time:  0.324 Seconds\n",
      " \n",
      " Normal termination of simulation.\n"
     ]
    },
    {
     "data": {
      "text/plain": [
       "(True, [])"
      ]
     },
     "execution_count": 28,
     "metadata": {},
     "output_type": "execute_result"
    }
   ],
   "source": [
    "# now to write and run the simulation\n",
    "split_path = working_path / \"split_model\"\n",
    "new_sim.set_sim_path(split_path)\n",
    "new_sim.write_simulation()\n",
    "new_sim.run_simulation()"
   ]
  },
  {
   "cell_type": "markdown",
   "id": "d67a92ef",
   "metadata": {},
   "source": [
    "### Visualize and reassemble model output\n",
    "\n",
    "Both models are visualized side by side"
   ]
  },
  {
   "cell_type": "code",
   "execution_count": 29,
   "id": "aee1df5c",
   "metadata": {
    "execution": {
     "iopub.execute_input": "2024-09-19T21:37:44.366145Z",
     "iopub.status.busy": "2024-09-19T21:37:44.365149Z",
     "iopub.status.idle": "2024-09-19T21:37:44.369149Z",
     "shell.execute_reply": "2024-09-19T21:37:44.368646Z",
     "shell.execute_reply.started": "2024-09-19T21:37:44.365149Z"
    }
   },
   "outputs": [],
   "source": [
    "# visualizing both models side by side\n",
    "ml0 = new_sim.get_model(\"freyberg_1\")\n",
    "ml1 = new_sim.get_model(\"freyberg_2\")"
   ]
  },
  {
   "cell_type": "code",
   "execution_count": 30,
   "id": "3a8f0a53",
   "metadata": {
    "execution": {
     "iopub.execute_input": "2024-09-19T21:37:50.119436Z",
     "iopub.status.busy": "2024-09-19T21:37:50.119436Z",
     "iopub.status.idle": "2024-09-19T21:37:50.127244Z",
     "shell.execute_reply": "2024-09-19T21:37:50.127244Z",
     "shell.execute_reply.started": "2024-09-19T21:37:50.119436Z"
    }
   },
   "outputs": [],
   "source": [
    "heads0 = ml0.output.head().get_alldata()[-1]\n",
    "heads1 = ml1.output.head().get_alldata()[-1]"
   ]
  },
  {
   "cell_type": "code",
   "execution_count": 32,
   "id": "fcccbecb",
   "metadata": {
    "execution": {
     "iopub.execute_input": "2024-09-19T21:38:12.871736Z",
     "iopub.status.busy": "2024-09-19T21:38:12.870708Z",
     "iopub.status.idle": "2024-09-19T21:38:13.171484Z",
     "shell.execute_reply": "2024-09-19T21:38:13.171484Z",
     "shell.execute_reply.started": "2024-09-19T21:38:12.871736Z"
    }
   },
   "outputs": [
    {
     "data": {
      "image/png": "[encoded data removed]",
      "text/plain": [
       "<Figure size 600x350 with 3 Axes>"
      ]
     },
     "metadata": {},
     "output_type": "display_data"
    }
   ],
   "source": [
    "fig, (ax0, ax1) = plt.subplots(1, 2, figsize=(6, 3.5))\n",
    "pmv = flopy.plot.PlotMapView(ml0, ax=ax0)\n",
    "pmv.plot_array(heads0, vmin=vmin, vmax=vmax)\n",
    "pmv.plot_ibound()\n",
    "pmv.plot_grid()\n",
    "pmv.plot_bc(\"WEL\")\n",
    "pmv.plot_bc(\"RIV\", color=\"c\")\n",
    "pmv.plot_bc(\"CHD\")\n",
    "ax0.set_title(\"Model 0\")\n",
    "\n",
    "pmv = flopy.plot.PlotMapView(ml1, ax=ax1)\n",
    "pc = pmv.plot_array(heads1, vmin=vmin, vmax=vmax)\n",
    "pmv.plot_ibound()\n",
    "pmv.plot_bc(\"WEL\")\n",
    "pmv.plot_bc(\"RIV\", color=\"c\")\n",
    "pmv.plot_grid()\n",
    "ax1.set_title(\"Model 1\")\n",
    "\n",
    "fig.subplots_adjust(right=0.8)\n",
    "cbar_ax = fig.add_axes([0.85, 0.15, 0.05, 0.7])\n",
    "cbar = fig.colorbar(pc, cax=cbar_ax, label=\"Hydraulic heads\")"
   ]
  },
  {
   "cell_type": "markdown",
   "id": "15da1690",
   "metadata": {},
   "source": [
    "## Example 2: Create a load balanced splitting mask for a model\n",
    "\n",
    "In the previous examples, the watershed model splitting mask was defined by the user. `Mf6Splitter` also has a method called `optimize_splitting_mask` that creates a mask based on the number of models the user would like to generate.\n",
    "\n",
    "The `optimize_splitting_mask()` method generates a vertex weighted adjacency graph, based on the number active and inactive nodes in all layers of the model. This adjacency graph is then provided to `pymetis` which does the work for us and returns a membership array for each node.\n",
    "\n",
    "The `optimize_splitting_mask()` method just needs the number of models supplied to it."
   ]
  },
  {
   "cell_type": "code",
   "execution_count": 36,
   "id": "9e7bc928",
   "metadata": {
    "execution": {
     "iopub.execute_input": "2024-09-19T21:45:22.448112Z",
     "iopub.status.busy": "2024-09-19T21:45:22.448112Z",
     "iopub.status.idle": "2024-09-19T21:45:22.456669Z",
     "shell.execute_reply": "2024-09-19T21:45:22.456669Z",
     "shell.execute_reply.started": "2024-09-19T21:45:22.448112Z"
    }
   },
   "outputs": [],
   "source": [
    "# live coding\n",
    "mfsplit = Mf6Splitter(sim)\n",
    "array = mfsplit.optimize_splitting_mask(6)"
   ]
  },
  {
   "cell_type": "markdown",
   "id": "2290b04a",
   "metadata": {},
   "source": [
    "Plot the load balanced array"
   ]
  },
  {
   "cell_type": "code",
   "execution_count": 37,
   "id": "a0da4b06",
   "metadata": {
    "execution": {
     "iopub.execute_input": "2024-09-19T21:45:24.895856Z",
     "iopub.status.busy": "2024-09-19T21:45:24.895856Z",
     "iopub.status.idle": "2024-09-19T21:45:25.045749Z",
     "shell.execute_reply": "2024-09-19T21:45:25.045749Z",
     "shell.execute_reply.started": "2024-09-19T21:45:24.895856Z"
    }
   },
   "outputs": [
    {
     "data": {
      "image/png": "[encoded data removed]",
      "text/plain": [
       "<Figure size 640x480 with 2 Axes>"
      ]
     },
     "metadata": {},
     "output_type": "display_data"
    }
   ],
   "source": [
    "# live coding\n",
    "cmap = \"Set3\"\n",
    "\n",
    "pmv = flopy.plot.PlotMapView(gwf)\n",
    "pc = pmv.plot_array(array, cmap=cmap)\n",
    "pmv.plot_inactive()\n",
    "pmv.plot_grid()\n",
    "plt.colorbar(pc);"
   ]
  },
  {
   "cell_type": "markdown",
   "id": "2caa612c",
   "metadata": {},
   "source": [
    "split, write, and run the split simulation"
   ]
  },
  {
   "cell_type": "code",
   "execution_count": 38,
   "id": "18113ac6",
   "metadata": {
    "execution": {
     "iopub.execute_input": "2024-09-19T21:46:05.363647Z",
     "iopub.status.busy": "2024-09-19T21:46:05.363647Z",
     "iopub.status.idle": "2024-09-19T21:46:07.529227Z",
     "shell.execute_reply": "2024-09-19T21:46:07.528233Z",
     "shell.execute_reply.started": "2024-09-19T21:46:05.363647Z"
    }
   },
   "outputs": [
    {
     "name": "stdout",
     "output_type": "stream",
     "text": [
      "writing simulation...\n",
      "  writing simulation name file...\n",
      "  writing simulation tdis package...\n",
      "  writing solution package ims_-1...\n",
      "  writing package sim_0_1.gwfgwf...\n",
      "  writing package sim_0_2.gwfgwf...\n",
      "  writing package sim_0_4.gwfgwf...\n",
      "  writing package sim_1_2.gwfgwf...\n",
      "  writing package sim_1_4.gwfgwf...\n",
      "  writing package sim_3_4.gwfgwf...\n",
      "  writing package sim_3_5.gwfgwf...\n",
      "  writing package sim_4_5.gwfgwf...\n",
      "  writing model freyberg_0...\n",
      "    writing model name file...\n",
      "    writing package dis...\n",
      "    writing package ic...\n",
      "    writing package oc...\n",
      "    writing package npf...\n",
      "    writing package sto...\n",
      "    writing package riv-1...\n",
      "    writing package wel-1...\n",
      "    writing package rch-1...\n",
      "  writing model freyberg_1...\n",
      "    writing model name file...\n",
      "    writing package dis...\n",
      "    writing package ic...\n",
      "    writing package oc...\n",
      "    writing package npf...\n",
      "    writing package sto...\n",
      "    writing package wel-1...\n",
      "    writing package rch-1...\n",
      "  writing model freyberg_2...\n",
      "    writing model name file...\n",
      "    writing package dis...\n",
      "    writing package ic...\n",
      "    writing package oc...\n",
      "    writing package npf...\n",
      "    writing package sto...\n",
      "    writing package riv-1...\n",
      "    writing package rch-1...\n",
      "  writing model freyberg_3...\n",
      "    writing model name file...\n",
      "    writing package dis...\n",
      "    writing package ic...\n",
      "    writing package oc...\n",
      "    writing package npf...\n",
      "    writing package sto...\n",
      "    writing package chd-1...\n",
      "    writing package riv-1...\n",
      "    writing package wel-1...\n",
      "    writing package rch-1...\n",
      "  writing model freyberg_4...\n",
      "    writing model name file...\n",
      "    writing package dis...\n",
      "    writing package ic...\n",
      "    writing package oc...\n",
      "    writing package npf...\n",
      "    writing package sto...\n",
      "    writing package riv-1...\n",
      "    writing package wel-1...\n",
      "    writing package rch-1...\n",
      "  writing model freyberg_5...\n",
      "    writing model name file...\n",
      "    writing package dis...\n",
      "    writing package ic...\n",
      "    writing package oc...\n",
      "    writing package npf...\n",
      "    writing package sto...\n",
      "    writing package chd-1...\n",
      "    writing package wel-1...\n",
      "    writing package rch-1...\n",
      "FloPy is using the following executable to run the model: ..\\..\\..\\..\\..\\..\\Documents\\anaconda3\\envs\\gw3099\\Scripts\\mf6.exe\n",
      "                                   MODFLOW 6\n",
      "                U.S. GEOLOGICAL SURVEY MODULAR HYDROLOGIC MODEL\n",
      "                            VERSION 6.5.0 05/23/2024\n",
      "\n",
      "   MODFLOW 6 compiled Jun 21 2024 02:57:23 with Intel(R) Fortran Intel(R) 64\n",
      "   Compiler Classic for applications running on Intel(R) 64, Version 2021.7.0\n",
      "                             Build 20220726_000000\n",
      "\n",
      "This software has been approved for release by the U.S. Geological \n",
      "Survey (USGS). Although the software has been subjected to rigorous \n",
      "review, the USGS reserves the right to update the software as needed \n",
      "pursuant to further analysis and review. No warranty, expressed or \n",
      "implied, is made by the USGS or the U.S. Government as to the \n",
      "functionality of the software and related material nor shall the \n",
      "fact of release constitute any such warranty. Furthermore, the \n",
      "software is released on condition that neither the USGS nor the U.S. \n",
      "Government shall be held liable for any damages resulting from its \n",
      "authorized or unauthorized use. Also refer to the USGS Water \n",
      "Resources Software User Rights Notice for complete use, copyright, \n",
      "and distribution information.\n",
      "\n",
      " \n",
      " MODFLOW runs in SEQUENTIAL mode\n",
      " \n",
      " Run start date and time (yyyy/mm/dd hh:mm:ss): 2024/09/19 14:46:06\n",
      " \n",
      " Writing simulation list file: mfsim.lst\n",
      " Using Simulation name file: mfsim.nam\n",
      " \n",
      "    Solving:  Stress period:     1    Time step:     1\n",
      " \n",
      " Run end date and time (yyyy/mm/dd hh:mm:ss): 2024/09/19 14:46:07\n",
      " Elapsed run time:  1.120 Seconds\n",
      " \n",
      " Normal termination of simulation.\n"
     ]
    },
    {
     "data": {
      "text/plain": [
       "(True, [])"
      ]
     },
     "execution_count": 38,
     "metadata": {},
     "output_type": "execute_result"
    }
   ],
   "source": [
    "sim_ws = working_path / \"load_balanced_split\"\n",
    "new_sim = mfsplit.split_model(array)\n",
    "new_sim.set_sim_path(sim_ws)\n",
    "new_sim.write_simulation()\n",
    "new_sim.run_simulation()"
   ]
  },
  {
   "cell_type": "markdown",
   "id": "9250274f",
   "metadata": {},
   "source": [
    "## Saving node mapping to file\n",
    "\n",
    "`Mf6Splitter` has a method, `save_node_mapping()` to save the internal model splitter's node mapping information to file.\n",
    "\n",
    "The `save_node_mapping()` method accepts a JSON file name."
   ]
  },
  {
   "cell_type": "code",
   "execution_count": 39,
   "id": "59b3fe7e",
   "metadata": {
    "execution": {
     "iopub.execute_input": "2024-09-19T21:47:28.731158Z",
     "iopub.status.busy": "2024-09-19T21:47:28.731158Z",
     "iopub.status.idle": "2024-09-19T21:47:28.742559Z",
     "shell.execute_reply": "2024-09-19T21:47:28.742559Z",
     "shell.execute_reply.started": "2024-09-19T21:47:28.731158Z"
    }
   },
   "outputs": [],
   "source": [
    "# live code\n",
    "mfsplit.save_node_mapping(\"my_node_map.json\")"
   ]
  },
  {
   "cell_type": "markdown",
   "id": "16013701",
   "metadata": {},
   "source": [
    "## Loading a saved node map from file\n",
    "\n",
    "`Mf6Splitter` has a `load_node_mapping()` function that allows the user to load an existing node mapping for array reconstuction.\n",
    "\n",
    "The `load_node_mapping()` function needs the split simulation object and the JSON node mapping file"
   ]
  },
  {
   "cell_type": "code",
   "execution_count": 41,
   "id": "d5d6a8e3",
   "metadata": {
    "execution": {
     "iopub.execute_input": "2024-09-19T21:50:09.864132Z",
     "iopub.status.busy": "2024-09-19T21:50:09.864132Z",
     "iopub.status.idle": "2024-09-19T21:50:10.139273Z",
     "shell.execute_reply": "2024-09-19T21:50:10.139273Z",
     "shell.execute_reply.started": "2024-09-19T21:50:09.864132Z"
    }
   },
   "outputs": [
    {
     "name": "stdout",
     "output_type": "stream",
     "text": [
      "loading simulation...\n",
      "  loading simulation name file...\n",
      "  loading tdis package...\n",
      "  loading model gwf6...\n",
      "    loading package dis...\n",
      "    loading package ic...\n",
      "    loading package oc...\n",
      "    loading package npf...\n",
      "    loading package sto...\n",
      "    loading package riv...\n",
      "    loading package wel...\n",
      "    loading package rch...\n",
      "  loading model gwf6...\n",
      "    loading package dis...\n",
      "    loading package ic...\n",
      "    loading package oc...\n",
      "    loading package npf...\n",
      "    loading package sto...\n",
      "    loading package wel...\n",
      "    loading package rch...\n",
      "  loading model gwf6...\n",
      "    loading package dis...\n",
      "    loading package ic...\n",
      "    loading package oc...\n",
      "    loading package npf...\n",
      "    loading package sto...\n",
      "    loading package riv...\n",
      "    loading package rch...\n",
      "  loading model gwf6...\n",
      "    loading package dis...\n",
      "    loading package ic...\n",
      "    loading package oc...\n",
      "    loading package npf...\n",
      "    loading package sto...\n",
      "    loading package chd...\n",
      "    loading package riv...\n",
      "    loading package wel...\n",
      "    loading package rch...\n",
      "  loading model gwf6...\n",
      "    loading package dis...\n",
      "    loading package ic...\n",
      "    loading package oc...\n",
      "    loading package npf...\n",
      "    loading package sto...\n",
      "    loading package riv...\n",
      "    loading package wel...\n",
      "    loading package rch...\n",
      "  loading model gwf6...\n",
      "    loading package dis...\n",
      "    loading package ic...\n",
      "    loading package oc...\n",
      "    loading package npf...\n",
      "    loading package sto...\n",
      "    loading package chd...\n",
      "    loading package wel...\n",
      "    loading package rch...\n",
      "  loading exchange package gwf-gwf_exg_0...\n",
      "  loading exchange package gwf-gwf_exg_1...\n",
      "  loading exchange package gwf-gwf_exg_2...\n",
      "  loading exchange package gwf-gwf_exg_3...\n",
      "  loading exchange package gwf-gwf_exg_4...\n",
      "  loading exchange package gwf-gwf_exg_5...\n",
      "  loading exchange package gwf-gwf_exg_6...\n",
      "  loading exchange package gwf-gwf_exg_7...\n",
      "  loading solution package freyberg_0...\n"
     ]
    }
   ],
   "source": [
    "new_sim2 = flopy.mf6.MFSimulation.load(sim_ws=sim_ws)\n",
    "\n",
    "# live code\n",
    "mfsplit = Mf6Splitter(sim)\n",
    "mfsplit.load_node_mapping(new_sim2, \"my_node_map.json\")"
   ]
  },
  {
   "cell_type": "markdown",
   "id": "37efd7cc",
   "metadata": {},
   "source": [
    "Plot up the split model's heads"
   ]
  },
  {
   "cell_type": "code",
   "execution_count": 42,
   "id": "b6c5ba05",
   "metadata": {
    "execution": {
     "iopub.execute_input": "2024-09-19T21:50:59.541808Z",
     "iopub.status.busy": "2024-09-19T21:50:59.540762Z",
     "iopub.status.idle": "2024-09-19T21:50:59.554373Z",
     "shell.execute_reply": "2024-09-19T21:50:59.554373Z",
     "shell.execute_reply.started": "2024-09-19T21:50:59.541759Z"
    }
   },
   "outputs": [],
   "source": [
    "head_dict = {}\n",
    "for ix, mname in enumerate(new_sim2.model_names):\n",
    "    ml = new_sim2.get_model(mname)\n",
    "    head_dict[ix] = ml.output.head().get_alldata()[-1]\n",
    "\n",
    "ra_heads = mfsplit.reconstruct_array(head_dict)"
   ]
  },
  {
   "cell_type": "code",
   "execution_count": 44,
   "id": "ced71640",
   "metadata": {
    "execution": {
     "iopub.execute_input": "2024-09-19T21:51:19.008207Z",
     "iopub.status.busy": "2024-09-19T21:51:19.007214Z",
     "iopub.status.idle": "2024-09-19T21:51:19.149571Z",
     "shell.execute_reply": "2024-09-19T21:51:19.149571Z",
     "shell.execute_reply.started": "2024-09-19T21:51:19.008207Z"
    }
   },
   "outputs": [
    {
     "data": {
      "image/png": "[encoded data removed]",
      "text/plain": [
       "<Figure size 300x500 with 2 Axes>"
      ]
     },
     "metadata": {},
     "output_type": "display_data"
    }
   ],
   "source": [
    "fig, ax = plt.subplots(figsize=(3, 5))\n",
    "\n",
    "pmv = flopy.plot.PlotMapView(modelgrid=modelgrid, ax=ax)\n",
    "pc = pmv.plot_array(ra_heads)\n",
    "ib = pmv.plot_inactive()\n",
    "plt.colorbar(pc, shrink=0.8);"
   ]
  },
  {
   "cell_type": "markdown",
   "id": "592746a8",
   "metadata": {},
   "source": [
    "More information about the model splitter can be found [here](https://flopy.readthedocs.io/en/latest/Notebooks/mf6_parallel_model_splitting_example.html)"
   ]
  },
  {
   "cell_type": "code",
   "execution_count": null,
   "id": "4e351447",
   "metadata": {},
   "outputs": [],
   "source": []
  }
 ],
 "metadata": {
  "kernelspec": {
   "display_name": "Python 3 (ipykernel)",
   "language": "python",
   "name": "python3"
  },
  "language_info": {
   "codemirror_mode": {
    "name": "ipython",
    "version": 3
   },
   "file_extension": ".py",
   "mimetype": "text/x-python",
   "name": "python",
   "nbconvert_exporter": "python",
   "pygments_lexer": "ipython3",
   "version": "3.12.5"
  }
 },
 "nbformat": 4,
 "nbformat_minor": 5
}
